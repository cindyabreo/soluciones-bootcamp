{
    "cells": [
        {
            "cell_type": "markdown",
            "id": "ac622319",
            "metadata": {},
            "source": [
                "# Descriptive Statistics Problems"
            ]
        },
        {
            "cell_type": "markdown",
            "id": "aa8993e4",
            "metadata": {},
            "source": [
                "### Exercise 1"
            ]
        },
        {
            "cell_type": "markdown",
            "id": "5e0ab0d5",
            "metadata": {},
            "source": [
                "As right now, you are familliar with numpy, we are going to use numpy to get some data statistics.\n",
                "\n",
                "First, lets create an array of 20 elements distributed normally (Gaussian):\n",
                "\n",
                "Use the np.random.normal function to create some data, using 0,1,20 as parameters because we want a one dimentional array of 20 numbers distributed normally (Gaussian)"
            ]
        },
        {
            "cell_type": "code",
            "execution_count": 49,
            "id": "34720ab6",
            "metadata": {},
            "outputs": [
                {
                    "name": "stdout",
                    "output_type": "stream",
                    "text": [
                        "[ 0.31396922  0.1073782   1.59576496  1.32893261 -0.36082262 -0.0950721\n",
                        "  0.32884538 -1.23396559  0.43370959  1.39127692  1.4101261   0.05414984\n",
                        " -0.40474587  1.23712825  2.05768484 -0.212772   -0.11903723  0.46836882\n",
                        " -0.54147539  0.75979741]\n"
                    ]
                }
            ],
            "source": [
                "#import libraries\n",
                "import numpy as np\n",
                "import random\n",
                "\n",
                "random.seed(3005)\n",
                "# Set seed in order to get similar results\n",
                "\n",
                "\n",
                "# create the data\n",
                "datos=np.random.normal(0,1,20)\n",
                "\n",
                "#print results\n",
                "print(datos)"
            ]
        },
        {
            "cell_type": "code",
            "execution_count": 50,
            "id": "49c55822",
            "metadata": {},
            "outputs": [
                {
                    "data": {
                        "text/plain": [
                            "0.42596206657578933"
                        ]
                    },
                    "execution_count": 50,
                    "metadata": {},
                    "output_type": "execute_result"
                }
            ],
            "source": [
                "#Use numpy to get the mean of your data\n",
                "datos.mean()"
            ]
        },
        {
            "cell_type": "code",
            "execution_count": 51,
            "id": "03529459",
            "metadata": {},
            "outputs": [
                {
                    "data": {
                        "text/plain": [
                            "0.687830868162442"
                        ]
                    },
                    "execution_count": 51,
                    "metadata": {},
                    "output_type": "execute_result"
                }
            ],
            "source": [
                "#get the variance of your data\n",
                "datos.var()"
            ]
        },
        {
            "cell_type": "code",
            "execution_count": 52,
            "id": "e53f30c5",
            "metadata": {},
            "outputs": [
                {
                    "data": {
                        "text/plain": [
                            "0.8293556945981875"
                        ]
                    },
                    "execution_count": 52,
                    "metadata": {},
                    "output_type": "execute_result"
                }
            ],
            "source": [
                "# Standard deviation\n",
                "datos.std()"
            ]
        },
        {
            "cell_type": "code",
            "execution_count": 53,
            "id": "121d242f",
            "metadata": {},
            "outputs": [],
            "source": [
                "#pip install statistics"
            ]
        },
        {
            "cell_type": "code",
            "execution_count": 54,
            "id": "9b81a000",
            "metadata": {},
            "outputs": [],
            "source": [
                "#pip install scipy "
            ]
        },
        {
            "cell_type": "code",
            "execution_count": 55,
            "id": "9bce852f",
            "metadata": {},
            "outputs": [
                {
                    "data": {
                        "text/plain": [
                            "ModeResult(mode=array([-1.23396559]), count=array([1]))"
                        ]
                    },
                    "execution_count": 55,
                    "metadata": {},
                    "output_type": "execute_result"
                }
            ],
            "source": [
                "#import libraries and print the mode\n",
                "from scipy import stats\n",
                "\n",
                "# Mode for continuous array\n",
                "stats.mode(datos)"
            ]
        },
        {
            "cell_type": "code",
            "execution_count": 56,
            "id": "c682cb6e",
            "metadata": {},
            "outputs": [
                {
                    "data": {
                        "text/plain": [
                            "0.32140729571120547"
                        ]
                    },
                    "execution_count": 56,
                    "metadata": {},
                    "output_type": "execute_result"
                }
            ],
            "source": [
                "# Median\n",
                "np.median(datos)\n"
            ]
        },
        {
            "cell_type": "code",
            "execution_count": 57,
            "id": "39c3fabd",
            "metadata": {},
            "outputs": [
                {
                    "data": {
                        "text/plain": [
                            "-0.14247092247353302"
                        ]
                    },
                    "execution_count": 57,
                    "metadata": {},
                    "output_type": "execute_result"
                }
            ],
            "source": [
                "# Print the Quantiles\n",
                "np.percentile(datos,25)\n",
                "\n",
                "# This match with np.median, why?\n",
                "#sii es la media"
            ]
        },
        {
            "cell_type": "markdown",
            "id": "46c70c3d",
            "metadata": {},
            "source": [
                "### Exercise 2\n",
                "\n",
                "Write a Python program to calculate the standard deviation of the following data:\n",
                "```py\n",
                "data = [4, 2, 5, 8, 6]\n",
                "```"
            ]
        },
        {
            "cell_type": "code",
            "execution_count": 58,
            "id": "8e01ea79",
            "metadata": {},
            "outputs": [],
            "source": [
                "import math\n",
                "import sys"
            ]
        },
        {
            "cell_type": "code",
            "execution_count": 59,
            "id": "099325f2",
            "metadata": {},
            "outputs": [],
            "source": [
                "datos = [4, 2, 5, 8, 6]\n"
            ]
        },
        {
            "cell_type": "code",
            "execution_count": 60,
            "id": "c3453418",
            "metadata": {},
            "outputs": [],
            "source": [
                "def avg_calc(data):\n",
                "    n = len(data)\n",
                "    mean = sum(data)/n\n",
                "    return mean"
            ]
        },
        {
            "cell_type": "code",
            "execution_count": 61,
            "id": "fbae9806",
            "metadata": {},
            "outputs": [],
            "source": [
                "def sd_calc(data):\n",
                "    n = len(data)\n",
                "    mean = avg_calc(data)\n",
                "    aux = []\n",
                "    for i in range(0,n-1):\n",
                "        aux.append((data[i]-mean)/(n-1))\n",
                "    return aux"
            ]
        },
        {
            "cell_type": "code",
            "execution_count": 62,
            "id": "8a03943a",
            "metadata": {},
            "outputs": [
                {
                    "data": {
                        "text/plain": [
                            "[-0.25, -0.75, 0.0, 0.75]"
                        ]
                    },
                    "execution_count": 62,
                    "metadata": {},
                    "output_type": "execute_result"
                }
            ],
            "source": [
                "sd_calc(datos)"
            ]
        },
        {
            "cell_type": "markdown",
            "id": "04b71791",
            "metadata": {},
            "source": [
                "Source:\n",
                "\n",
                "https://www.w3resource.com/"
            ]
        }
    ],
    "metadata": {
        "interpreter": {
            "hash": "4cae77fa42014e461c5581e2da9c06043b536450488e32d8a8ebc645c11afba0"
        },
        "kernelspec": {
            "display_name": "Python 3.9.13 64-bit (windows store)",
            "language": "python",
            "name": "python3"
        },
        "language_info": {
            "codemirror_mode": {
                "name": "ipython",
                "version": 3
            },
            "file_extension": ".py",
            "mimetype": "text/x-python",
            "name": "python",
            "nbconvert_exporter": "python",
            "pygments_lexer": "ipython3",
            "version": "3.9.13"
        },
        "vscode": {
            "interpreter": {
                "hash": "110cc1dee26208153f2972f08a2ad52b6a56238dc66d48e87fb757ef2996db56"
            }
        }
    },
    "nbformat": 4,
    "nbformat_minor": 5
}
